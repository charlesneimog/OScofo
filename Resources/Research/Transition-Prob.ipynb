{
 "cells": [
  {
   "cell_type": "code",
   "execution_count": 12,
   "id": "52172201-5fd4-449c-b573-cb37e9e2ba01",
   "metadata": {},
   "outputs": [
    {
     "name": "stdout",
     "output_type": "stream",
     "text": [
      "P_{ij} is  0.7200000000000001\n"
     ]
    }
   ],
   "source": [
    "# Proposta 1\n",
    "\n",
    "#1) Prob pitch t = i\n",
    "#2) Prob pitch t != j\n",
    "#3) Prob pitch t-1 = j\n",
    "\n",
    "pitch_prob_i_t = 1\n",
    "pitch_prob_j_t = 0.2\n",
    "prev_pitch_prob_j_t = 0.9\n",
    "\n",
    "pitch_prob_neq_j_t = 1 - pitch_prob_j_t \n",
    "\n",
    "\n",
    "prob = pitch_prob_i_t * pitch_prob_neq_j_t * prev_pitch_prob_j_t\n",
    "print(\"P_{ij} is \", prob)\n",
    "\n"
   ]
  }
 ],
 "metadata": {
  "kernelspec": {
   "display_name": "Python 3 (ipykernel)",
   "language": "python",
   "name": "python3"
  },
  "language_info": {
   "codemirror_mode": {
    "name": "ipython",
    "version": 3
   },
   "file_extension": ".py",
   "mimetype": "text/x-python",
   "name": "python",
   "nbconvert_exporter": "python",
   "pygments_lexer": "ipython3",
   "version": "3.12.2"
  }
 },
 "nbformat": 4,
 "nbformat_minor": 5
}
